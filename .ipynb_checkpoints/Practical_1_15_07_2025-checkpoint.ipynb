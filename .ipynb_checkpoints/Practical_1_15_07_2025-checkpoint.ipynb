{
 "cells": [
  {
   "cell_type": "code",
   "execution_count": 2,
   "id": "7219d2a0-fafa-409b-a4e2-e6ac6a7a0040",
   "metadata": {},
   "outputs": [
    {
     "name": "stdout",
     "output_type": "stream",
     "text": [
      "Requirement already satisfied: numpy in c:\\users\\sies\\appdata\\local\\programs\\python\\python313\\lib\\site-packages (2.1.3)\n",
      "Note: you may need to restart the kernel to use updated packages.\n"
     ]
    }
   ],
   "source": [
    "pip install numpy"
   ]
  },
  {
   "cell_type": "code",
   "execution_count": null,
   "id": "ed73163a-569f-4d60-88f1-3a66fd62e5b9",
   "metadata": {},
   "outputs": [],
   "source": [
    "#Creating Arrays"
   ]
  },
  {
   "cell_type": "code",
   "execution_count": 41,
   "id": "66534451-aa74-4fc1-8fa4-195ce2562bf6",
   "metadata": {},
   "outputs": [
    {
     "name": "stdout",
     "output_type": "stream",
     "text": [
      "[1 2 3]\n"
     ]
    },
    {
     "data": {
      "text/plain": [
       "1"
      ]
     },
     "execution_count": 41,
     "metadata": {},
     "output_type": "execute_result"
    }
   ],
   "source": [
    "import numpy as np\n",
    "a = np.array([1,2,3])\n",
    "print(a)\n",
    "np.shape(a)\n",
    "type(a)\n",
    "a.dtype\n",
    "a.ndim"
   ]
  },
  {
   "cell_type": "code",
   "execution_count": 23,
   "id": "87a90073-affe-4f9f-aca2-b3d927469258",
   "metadata": {},
   "outputs": [
    {
     "data": {
      "text/plain": [
       "numpy.dtype[array([1, 2, 3])]"
      ]
     },
     "execution_count": 23,
     "metadata": {},
     "output_type": "execute_result"
    }
   ],
   "source": [
    "a = np.array([1,2,3])\n",
    "np.dtype[a]"
   ]
  },
  {
   "cell_type": "code",
   "execution_count": 30,
   "id": "c071282a-6991-45a2-a63a-e137356f234a",
   "metadata": {},
   "outputs": [
    {
     "data": {
      "text/plain": [
       "dtype('float64')"
      ]
     },
     "execution_count": 30,
     "metadata": {},
     "output_type": "execute_result"
    }
   ],
   "source": [
    "b = np.array([(1.5,2,3),(4,5,6)],dtype=float)\n",
    "b.shape\n",
    "b.size\n",
    "b.dtype"
   ]
  },
  {
   "cell_type": "code",
   "execution_count": 42,
   "id": "a2bfb450-f80d-4daf-81fb-0a3ed0dbf1b5",
   "metadata": {},
   "outputs": [
    {
     "data": {
      "text/plain": [
       "3"
      ]
     },
     "execution_count": 42,
     "metadata": {},
     "output_type": "execute_result"
    }
   ],
   "source": [
    "c = np.array([[(1.5,2,3),(4,5,6)],[(3,2,1),(4,5,6)],[(3,2,1),(4,5,6)]],dtype=float)\n",
    "c.size\n",
    "c.shape\n",
    "c.ndim"
   ]
  }
 ],
 "metadata": {
  "kernelspec": {
   "display_name": "Python 3 (ipykernel)",
   "language": "python",
   "name": "python3"
  },
  "language_info": {
   "codemirror_mode": {
    "name": "ipython",
    "version": 3
   },
   "file_extension": ".py",
   "mimetype": "text/x-python",
   "name": "python",
   "nbconvert_exporter": "python",
   "pygments_lexer": "ipython3",
   "version": "3.13.5"
  }
 },
 "nbformat": 4,
 "nbformat_minor": 5
}
