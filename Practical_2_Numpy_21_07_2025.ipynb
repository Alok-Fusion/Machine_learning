{
 "cells": [
  {
   "cell_type": "code",
   "execution_count": 1,
   "id": "2317d4e3-f43e-403b-bec3-36efbe32c41e",
   "metadata": {},
   "outputs": [],
   "source": [
    "import numpy as np"
   ]
  },
  {
   "cell_type": "code",
   "execution_count": 2,
   "id": "123aa106-7551-4501-91b1-b0ce8a924ef8",
   "metadata": {},
   "outputs": [
    {
     "data": {
      "text/plain": [
       "array([['a', 'b'],\n",
       "       ['c', 'd']], dtype='<U1')"
      ]
     },
     "execution_count": 2,
     "metadata": {},
     "output_type": "execute_result"
    }
   ],
   "source": [
    "#types of data\n",
    "g = np.array([['a','b'],['c','d']])\n",
    "g"
   ]
  },
  {
   "cell_type": "code",
   "execution_count": 5,
   "id": "c8d01e87-3543-4f21-a022-9cfa90a22848",
   "metadata": {},
   "outputs": [
    {
     "data": {
      "text/plain": [
       "dtype('<U1')"
      ]
     },
     "execution_count": 5,
     "metadata": {},
     "output_type": "execute_result"
    }
   ],
   "source": [
    "g.dtype"
   ]
  },
  {
   "cell_type": "code",
   "execution_count": 6,
   "id": "11255fd7-69d9-4b2c-a0ff-5eb23dfd3ec8",
   "metadata": {},
   "outputs": [
    {
     "data": {
      "text/plain": [
       "'str32'"
      ]
     },
     "execution_count": 6,
     "metadata": {},
     "output_type": "execute_result"
    }
   ],
   "source": [
    "g.dtype.name"
   ]
  },
  {
   "cell_type": "code",
   "execution_count": 7,
   "id": "0d65cdff-13f0-4e01-9ae6-4c1be75a503b",
   "metadata": {},
   "outputs": [
    {
     "data": {
      "text/plain": [
       "(2, 2)"
      ]
     },
     "execution_count": 7,
     "metadata": {},
     "output_type": "execute_result"
    }
   ],
   "source": [
    "g.shape"
   ]
  },
  {
   "cell_type": "code",
   "execution_count": 8,
   "id": "0a01568b-9d9d-4d4d-95fe-c5e3580e828a",
   "metadata": {},
   "outputs": [
    {
     "data": {
      "text/plain": [
       "2"
      ]
     },
     "execution_count": 8,
     "metadata": {},
     "output_type": "execute_result"
    }
   ],
   "source": [
    "g.ndim"
   ]
  },
  {
   "cell_type": "code",
   "execution_count": 9,
   "id": "7683d03e-c44b-474d-8884-4df47732821a",
   "metadata": {},
   "outputs": [
    {
     "data": {
      "text/plain": [
       "array([[1.+0.j, 2.+0.j, 3.+0.j],\n",
       "       [4.+0.j, 5.+0.j, 6.+0.j]])"
      ]
     },
     "execution_count": 9,
     "metadata": {},
     "output_type": "execute_result"
    }
   ],
   "source": [
    "f = np.array([[1,2,3],[4,5,6]],dtype = complex)\n",
    "f"
   ]
  },
  {
   "cell_type": "code",
   "execution_count": 12,
   "id": "2ab64af4-ad64-4b4f-b4d3-02850c34bbf7",
   "metadata": {},
   "outputs": [
    {
     "data": {
      "text/plain": [
       "array([[0., 0., 0.],\n",
       "       [0., 0., 0.],\n",
       "       [0., 0., 0.]])"
      ]
     },
     "execution_count": 12,
     "metadata": {},
     "output_type": "execute_result"
    }
   ],
   "source": [
    "#intrinsic Creation of array\n",
    "np.zeros((3,3))"
   ]
  },
  {
   "cell_type": "code",
   "execution_count": 13,
   "id": "69e8cbb6-c942-4075-b202-da11e4c699bc",
   "metadata": {},
   "outputs": [
    {
     "data": {
      "text/plain": [
       "array([[1., 1., 1.],\n",
       "       [1., 1., 1.],\n",
       "       [1., 1., 1.]])"
      ]
     },
     "execution_count": 13,
     "metadata": {},
     "output_type": "execute_result"
    }
   ],
   "source": [
    "np.ones((3,3))"
   ]
  },
  {
   "cell_type": "code",
   "execution_count": 18,
   "id": "947dc942-42c5-48de-a6db-fb6e7b0ca977",
   "metadata": {},
   "outputs": [
    {
     "data": {
      "text/plain": [
       "array([0, 1, 2, 3, 4, 5, 6, 7, 8, 9])"
      ]
     },
     "execution_count": 18,
     "metadata": {},
     "output_type": "execute_result"
    }
   ],
   "source": [
    "#A feature thst will be particularly useful is arange()\n",
    "#This function generates Numpy arrays with numerical sequences that\n",
    "#respopnd to particular rules depending on the passed arguments.\n",
    "np.arange(0,10)"
   ]
  },
  {
   "cell_type": "code",
   "execution_count": 17,
   "id": "d99e8774-d26a-46a0-80d8-43d496ed14c9",
   "metadata": {},
   "outputs": [
    {
     "data": {
      "text/plain": [
       "array([ 0. ,  3.5,  7. , 10.5])"
      ]
     },
     "execution_count": 17,
     "metadata": {},
     "output_type": "execute_result"
    }
   ],
   "source": [
    "np.arange(0,12,3)\n",
    "np.arange(0,12,3.5)"
   ]
  },
  {
   "cell_type": "code",
   "execution_count": 19,
   "id": "f27dc0a0-318b-44ac-bbf8-46e3684a6569",
   "metadata": {},
   "outputs": [
    {
     "data": {
      "text/plain": [
       "array([0.4917538 , 0.9040078 , 0.48411535])"
      ]
     },
     "execution_count": 19,
     "metadata": {},
     "output_type": "execute_result"
    }
   ],
   "source": [
    "np.random.random(3)"
   ]
  },
  {
   "cell_type": "code",
   "execution_count": 20,
   "id": "c0d10358-ad85-4430-8346-45e78986c8b4",
   "metadata": {},
   "outputs": [
    {
     "data": {
      "text/plain": [
       "array([[0.55353017, 0.56387924, 0.52509298],\n",
       "       [0.5564645 , 0.45239592, 0.41996573],\n",
       "       [0.23215109, 0.83179263, 0.08673785]])"
      ]
     },
     "execution_count": 20,
     "metadata": {},
     "output_type": "execute_result"
    }
   ],
   "source": [
    "np.random.random((3,3))"
   ]
  },
  {
   "cell_type": "code",
   "execution_count": 31,
   "id": "d1d097dc-ac68-48f2-a139-53542426c226",
   "metadata": {},
   "outputs": [
    {
     "data": {
      "text/plain": [
       "array([[ 1.57444133,  2.52496314, -1.82632467,  0.60922478],\n",
       "       [-0.53545769, -0.18531888, -0.24293719, -1.63420952],\n",
       "       [ 0.38902132, -0.08291107,  0.02154114,  0.0799727 ],\n",
       "       [-0.87520359, -0.17400416,  0.73605541, -0.35077749]])"
      ]
     },
     "execution_count": 31,
     "metadata": {},
     "output_type": "execute_result"
    }
   ],
   "source": [
    "np.random.randn(4,4) #normal distribution"
   ]
  },
  {
   "cell_type": "code",
   "execution_count": 32,
   "id": "65ea5289-c0b4-4713-9902-d6560938d848",
   "metadata": {},
   "outputs": [
    {
     "data": {
      "text/plain": [
       "array([[0.17192864, 0.10915811, 0.14133389],\n",
       "       [0.81902272, 0.97652116, 0.35898004],\n",
       "       [0.05178054, 0.11140627, 0.44732076]])"
      ]
     },
     "execution_count": 32,
     "metadata": {},
     "output_type": "execute_result"
    }
   ],
   "source": [
    "np.random.rand(3,3) #uniform distributions"
   ]
  },
  {
   "cell_type": "code",
   "execution_count": 36,
   "id": "e31841e5-1fed-4711-9276-b7ed329ee08f",
   "metadata": {},
   "outputs": [
    {
     "data": {
      "text/plain": [
       "array([ 7, 19,  4, 18, 10, 11,  8,  9,  8, 17,  5, 11,  6,  7, 12,  6, 13,\n",
       "       19,  5,  8,  7, 13,  8,  7,  9, 11, 11, 10, 17, 13,  6,  8, 19,  9,\n",
       "       14,  4, 16,  6,  9, 17,  7, 11, 13,  7,  8, 15, 17, 15, 15, 16, 17,\n",
       "       16, 10, 11, 12, 10,  4, 13, 12, 17, 17,  7,  7,  4, 14, 12,  9,  6,\n",
       "        6, 18, 14, 15, 19, 18, 16,  4, 19,  5, 10, 13, 10, 15, 12,  5,  7,\n",
       "        6, 16, 15,  7,  8, 19, 12,  9, 16,  6, 11, 13, 11, 13, 13],\n",
       "      dtype=int32)"
      ]
     },
     "execution_count": 36,
     "metadata": {},
     "output_type": "execute_result"
    }
   ],
   "source": [
    "np.random.randint(4,20,100)"
   ]
  },
  {
   "cell_type": "code",
   "execution_count": 37,
   "id": "6625c31b-74a8-4ab7-a3c5-d8c0e795f7b6",
   "metadata": {},
   "outputs": [],
   "source": [
    "#Basic operations "
   ]
  },
  {
   "cell_type": "code",
   "execution_count": 38,
   "id": "53009693-bab5-45b9-bb32-8cda23192647",
   "metadata": {},
   "outputs": [],
   "source": [
    "a = np.arange(4)"
   ]
  },
  {
   "cell_type": "code",
   "execution_count": 39,
   "id": "e3f6af5d-7054-49a7-b07d-852aace22dec",
   "metadata": {},
   "outputs": [
    {
     "data": {
      "text/plain": [
       "array([0, 1, 2, 3])"
      ]
     },
     "execution_count": 39,
     "metadata": {},
     "output_type": "execute_result"
    }
   ],
   "source": [
    "a"
   ]
  },
  {
   "cell_type": "code",
   "execution_count": 40,
   "id": "4c2938fe-a6b3-4aea-a9b0-53b832f5a9ec",
   "metadata": {},
   "outputs": [
    {
     "data": {
      "text/plain": [
       "array([4, 5, 6, 7])"
      ]
     },
     "execution_count": 40,
     "metadata": {},
     "output_type": "execute_result"
    }
   ],
   "source": [
    "a+4"
   ]
  },
  {
   "cell_type": "code",
   "execution_count": 41,
   "id": "3a9221a0-1f5a-415a-bd19-62ea0583553f",
   "metadata": {},
   "outputs": [
    {
     "data": {
      "text/plain": [
       "array([0, 2, 4, 6])"
      ]
     },
     "execution_count": 41,
     "metadata": {},
     "output_type": "execute_result"
    }
   ],
   "source": [
    "a*2"
   ]
  },
  {
   "cell_type": "code",
   "execution_count": 42,
   "id": "a452d77c-def9-41cc-b2eb-1c47f905f933",
   "metadata": {},
   "outputs": [
    {
     "data": {
      "text/plain": [
       "array([0, 0, 1, 1])"
      ]
     },
     "execution_count": 42,
     "metadata": {},
     "output_type": "execute_result"
    }
   ],
   "source": [
    "a//2"
   ]
  },
  {
   "cell_type": "code",
   "execution_count": 43,
   "id": "4d5312f9-7a95-4c5a-b03d-e39003636038",
   "metadata": {},
   "outputs": [
    {
     "data": {
      "text/plain": [
       "array([0. , 0.5, 1. , 1.5])"
      ]
     },
     "execution_count": 43,
     "metadata": {},
     "output_type": "execute_result"
    }
   ],
   "source": [
    "a/2"
   ]
  },
  {
   "cell_type": "code",
   "execution_count": 44,
   "id": "fa04f3e7-9e51-4eec-bacc-4624e29a103d",
   "metadata": {},
   "outputs": [],
   "source": [
    "b = np.arange(4,8)"
   ]
  },
  {
   "cell_type": "code",
   "execution_count": 45,
   "id": "4b59bd10-f78d-4ea0-a177-b49c4ae19bb0",
   "metadata": {},
   "outputs": [
    {
     "data": {
      "text/plain": [
       "array([4, 5, 6, 7])"
      ]
     },
     "execution_count": 45,
     "metadata": {},
     "output_type": "execute_result"
    }
   ],
   "source": [
    "b"
   ]
  },
  {
   "cell_type": "code",
   "execution_count": 48,
   "id": "b77f1c59-d59f-4d9b-ad9c-857747307f2a",
   "metadata": {},
   "outputs": [
    {
     "name": "stdout",
     "output_type": "stream",
     "text": [
      "[ 4  6  8 10]\n",
      "[-4 -4 -4 -4]\n",
      "[ 0  5 12 21]\n",
      "[0 0 0 0]\n",
      "[0.         0.2        0.33333333 0.42857143]\n",
      "[0.         2.23606798 4.89897949 7.93725393]\n",
      "[-0.         -0.95892427 -0.558831    1.9709598 ]\n"
     ]
    }
   ],
   "source": [
    "print(a+b)\n",
    "print(a-b)\n",
    "print(a*b)\n",
    "print(a//b)\n",
    "print(a/b)\n",
    "print(a * np.sqrt(b))\n",
    "print(a*np.sin(b))"
   ]
  },
  {
   "cell_type": "code",
   "execution_count": 49,
   "id": "644e45a9-3891-4a19-abcd-6b3d773abf55",
   "metadata": {},
   "outputs": [
    {
     "name": "stdout",
     "output_type": "stream",
     "text": [
      "[[0 1 2]\n",
      " [3 4 5]\n",
      " [6 7 8]]\n",
      "[[1. 1. 1.]\n",
      " [1. 1. 1.]\n",
      " [1. 1. 1.]]\n",
      "[[0. 1. 2.]\n",
      " [3. 4. 5.]\n",
      " [6. 7. 8.]]\n"
     ]
    }
   ],
   "source": [
    "#multi-dimenstional case\n",
    "a = np.arange(0,9).reshape(3,3)\n",
    "print(a)\n",
    "b = np.ones((3,3))\n",
    "print(b)\n",
    "print(a*b)"
   ]
  },
  {
   "cell_type": "code",
   "execution_count": 50,
   "id": "cf56afe7-ebde-4445-bad0-42b270d21eb9",
   "metadata": {},
   "outputs": [
    {
     "data": {
      "text/plain": [
       "array([[ 3.,  3.,  3.],\n",
       "       [12., 12., 12.],\n",
       "       [21., 21., 21.]])"
      ]
     },
     "execution_count": 50,
     "metadata": {},
     "output_type": "execute_result"
    }
   ],
   "source": [
    "np.dot(a,b)"
   ]
  },
  {
   "cell_type": "code",
   "execution_count": 51,
   "id": "e1592af3-35cf-48d8-a05f-c2e2c49a354f",
   "metadata": {},
   "outputs": [
    {
     "data": {
      "text/plain": [
       "array([[0., 1., 2.],\n",
       "       [3., 4., 5.],\n",
       "       [6., 7., 8.]])"
      ]
     },
     "execution_count": 51,
     "metadata": {},
     "output_type": "execute_result"
    }
   ],
   "source": [
    "a*b"
   ]
  },
  {
   "cell_type": "code",
   "execution_count": 52,
   "id": "c5359533-874f-4565-9310-fde0b3dc3c6e",
   "metadata": {},
   "outputs": [
    {
     "data": {
      "text/plain": [
       "array([[ 9., 12., 15.],\n",
       "       [ 9., 12., 15.],\n",
       "       [ 9., 12., 15.]])"
      ]
     },
     "execution_count": 52,
     "metadata": {},
     "output_type": "execute_result"
    }
   ],
   "source": [
    "np.dot(b,a)"
   ]
  },
  {
   "cell_type": "code",
   "execution_count": 54,
   "id": "1c5fb017-8a38-4c64-a35f-0bf5ea650078",
   "metadata": {},
   "outputs": [
    {
     "data": {
      "text/plain": [
       "array([[ 2,  3,  4],\n",
       "       [ 5,  6,  7],\n",
       "       [ 8,  9, 10]])"
      ]
     },
     "execution_count": 54,
     "metadata": {},
     "output_type": "execute_result"
    }
   ],
   "source": [
    "#increment and decrement\n",
    "a +=1\n",
    "a"
   ]
  },
  {
   "cell_type": "code",
   "execution_count": 55,
   "id": "04ab9a3b-f02f-4c5d-bb93-81626a57ffd9",
   "metadata": {},
   "outputs": [
    {
     "data": {
      "text/plain": [
       "array([[1, 2, 3],\n",
       "       [4, 5, 6],\n",
       "       [7, 8, 9]])"
      ]
     },
     "execution_count": 55,
     "metadata": {},
     "output_type": "execute_result"
    }
   ],
   "source": [
    "a -= 1\n",
    "a"
   ]
  },
  {
   "cell_type": "code",
   "execution_count": 57,
   "id": "aff78c5a-e4c4-413e-9210-772b8027fc88",
   "metadata": {},
   "outputs": [
    {
     "data": {
      "text/plain": [
       "array([[ 4,  8, 12],\n",
       "       [16, 20, 24],\n",
       "       [28, 32, 36]])"
      ]
     },
     "execution_count": 57,
     "metadata": {},
     "output_type": "execute_result"
    }
   ],
   "source": [
    "a *=2\n",
    "a"
   ]
  },
  {
   "cell_type": "code",
   "execution_count": 60,
   "id": "0634bfdd-df7e-4fcd-afbf-26e1a2af4931",
   "metadata": {},
   "outputs": [
    {
     "data": {
      "text/plain": [
       "array([3, 4, 5, 6, 7, 8, 9])"
      ]
     },
     "execution_count": 60,
     "metadata": {},
     "output_type": "execute_result"
    }
   ],
   "source": [
    "#universal functions like sqrt(),log(),sin()\n",
    "d = np.arange(3,10)\n",
    "d"
   ]
  },
  {
   "cell_type": "code",
   "execution_count": 61,
   "id": "3505229a-639a-4242-a24c-4ba00a278afb",
   "metadata": {},
   "outputs": [
    {
     "data": {
      "text/plain": [
       "array([1.73205081, 2.        , 2.23606798, 2.44948974, 2.64575131,\n",
       "       2.82842712, 3.        ])"
      ]
     },
     "execution_count": 61,
     "metadata": {},
     "output_type": "execute_result"
    }
   ],
   "source": [
    "np.sqrt(d)"
   ]
  },
  {
   "cell_type": "code",
   "execution_count": 62,
   "id": "92854cda-36bf-44da-9869-513d96dbfc6c",
   "metadata": {},
   "outputs": [
    {
     "data": {
      "text/plain": [
       "array([1.09861229, 1.38629436, 1.60943791, 1.79175947, 1.94591015,\n",
       "       2.07944154, 2.19722458])"
      ]
     },
     "execution_count": 62,
     "metadata": {},
     "output_type": "execute_result"
    }
   ],
   "source": [
    "np.log(d)"
   ]
  },
  {
   "cell_type": "code",
   "execution_count": 63,
   "id": "d80ae838-3bcd-4d3e-9b6e-a6968c74ba08",
   "metadata": {},
   "outputs": [
    {
     "data": {
      "text/plain": [
       "array([ 0.14112001, -0.7568025 , -0.95892427, -0.2794155 ,  0.6569866 ,\n",
       "        0.98935825,  0.41211849])"
      ]
     },
     "execution_count": 63,
     "metadata": {},
     "output_type": "execute_result"
    }
   ],
   "source": [
    "np.sin(d)"
   ]
  },
  {
   "cell_type": "code",
   "execution_count": null,
   "id": "68963cfb-a8f7-4f11-8050-ddba946b38b6",
   "metadata": {},
   "outputs": [],
   "source": []
  }
 ],
 "metadata": {
  "kernelspec": {
   "display_name": "Python 3 (ipykernel)",
   "language": "python",
   "name": "python3"
  },
  "language_info": {
   "codemirror_mode": {
    "name": "ipython",
    "version": 3
   },
   "file_extension": ".py",
   "mimetype": "text/x-python",
   "name": "python",
   "nbconvert_exporter": "python",
   "pygments_lexer": "ipython3",
   "version": "3.13.5"
  }
 },
 "nbformat": 4,
 "nbformat_minor": 5
}
