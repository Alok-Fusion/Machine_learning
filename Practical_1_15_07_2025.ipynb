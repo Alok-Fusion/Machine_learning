{
 "cells": [
  {
   "cell_type": "code",
   "execution_count": 2,
   "id": "7219d2a0-fafa-409b-a4e2-e6ac6a7a0040",
   "metadata": {},
   "outputs": [
    {
     "name": "stdout",
     "output_type": "stream",
     "text": [
      "Requirement already satisfied: numpy in c:\\users\\sies\\appdata\\local\\programs\\python\\python313\\lib\\site-packages (2.1.3)\n",
      "Note: you may need to restart the kernel to use updated packages.\n"
     ]
    }
   ],
   "source": [
    "pip install numpy"
   ]
  },
  {
   "cell_type": "code",
   "execution_count": null,
   "id": "ed73163a-569f-4d60-88f1-3a66fd62e5b9",
   "metadata": {},
   "outputs": [],
   "source": [
    "#Creating Arrays"
   ]
  },
  {
   "cell_type": "code",
   "execution_count": 41,
   "id": "66534451-aa74-4fc1-8fa4-195ce2562bf6",
   "metadata": {},
   "outputs": [
    {
     "name": "stdout",
     "output_type": "stream",
     "text": [
      "[1 2 3]\n"
     ]
    },
    {
     "data": {
      "text/plain": [
       "1"
      ]
     },
     "execution_count": 41,
     "metadata": {},
     "output_type": "execute_result"
    }
   ],
   "source": [
    "import numpy as np\n",
    "a = np.array([1,2,3])\n",
    "print(a)\n",
    "np.shape(a)\n",
    "type(a)\n",
    "a.dtype\n",
    "a.ndim"
   ]
  },
  {
   "cell_type": "code",
   "execution_count": 23,
   "id": "87a90073-affe-4f9f-aca2-b3d927469258",
   "metadata": {},
   "outputs": [
    {
     "data": {
      "text/plain": [
       "numpy.dtype[array([1, 2, 3])]"
      ]
     },
     "execution_count": 23,
     "metadata": {},
     "output_type": "execute_result"
    }
   ],
   "source": [
    "a = np.array([1,2,3])\n",
    "np.dtype[a]"
   ]
  },
  {
   "cell_type": "code",
   "execution_count": 30,
   "id": "c071282a-6991-45a2-a63a-e137356f234a",
   "metadata": {},
   "outputs": [
    {
     "data": {
      "text/plain": [
       "dtype('float64')"
      ]
     },
     "execution_count": 30,
     "metadata": {},
     "output_type": "execute_result"
    }
   ],
   "source": [
    "b = np.array([(1.5,2,3),(4,5,6)],dtype=float)\n",
    "b.shape\n",
    "b.size\n",
    "b.dtype"
   ]
  },
  {
   "cell_type": "code",
   "execution_count": 42,
   "id": "a2bfb450-f80d-4daf-81fb-0a3ed0dbf1b5",
   "metadata": {},
   "outputs": [
    {
     "data": {
      "text/plain": [
       "3"
      ]
     },
     "execution_count": 42,
     "metadata": {},
     "output_type": "execute_result"
    }
   ],
   "source": [
    "c = np.array([[(1.5,2,3),(4,5,6)],[(3,2,1),(4,5,6)],[(3,2,1),(4,5,6)]],dtype=float)\n",
    "c.size\n",
    "c.shape\n",
    "c.ndim"
   ]
  },
  {
   "cell_type": "code",
   "execution_count": 45,
   "id": "db33a5af-644d-4998-8f6a-91768d61cc9b",
   "metadata": {},
   "outputs": [
    {
     "data": {
      "text/plain": [
       "array([[0., 0., 0., 0.],\n",
       "       [0., 0., 0., 0.],\n",
       "       [0., 0., 0., 0.]])"
      ]
     },
     "execution_count": 45,
     "metadata": {},
     "output_type": "execute_result"
    }
   ],
   "source": [
    "np.zeros((3,4))"
   ]
  },
  {
   "cell_type": "code",
   "execution_count": 47,
   "id": "2dbd4216-f5e1-4722-a041-5a08f706c05a",
   "metadata": {},
   "outputs": [
    {
     "data": {
      "text/plain": [
       "array([[[1, 1, 1, 1],\n",
       "        [1, 1, 1, 1],\n",
       "        [1, 1, 1, 1]],\n",
       "\n",
       "       [[1, 1, 1, 1],\n",
       "        [1, 1, 1, 1],\n",
       "        [1, 1, 1, 1]],\n",
       "\n",
       "       [[1, 1, 1, 1],\n",
       "        [1, 1, 1, 1],\n",
       "        [1, 1, 1, 1]],\n",
       "\n",
       "       [[1, 1, 1, 1],\n",
       "        [1, 1, 1, 1],\n",
       "        [1, 1, 1, 1]],\n",
       "\n",
       "       [[1, 1, 1, 1],\n",
       "        [1, 1, 1, 1],\n",
       "        [1, 1, 1, 1]]], dtype=int16)"
      ]
     },
     "execution_count": 47,
     "metadata": {},
     "output_type": "execute_result"
    }
   ],
   "source": [
    "np.ones((5,3,4),dtype = np.int16)"
   ]
  },
  {
   "cell_type": "code",
   "execution_count": 51,
   "id": "765be1ad-05e6-4c06-938b-2571c01098a4",
   "metadata": {},
   "outputs": [
    {
     "name": "stdout",
     "output_type": "stream",
     "text": [
      "[10.  15.5 21.  26.5]\n"
     ]
    }
   ],
   "source": [
    "d = np.arange(10,30,5.5)\n",
    "#parameter(start,stop,step)\n",
    "print(d)"
   ]
  },
  {
   "cell_type": "code",
   "execution_count": 55,
   "id": "580dc077-41e3-49e5-915e-3571508f7552",
   "metadata": {},
   "outputs": [
    {
     "name": "stdout",
     "output_type": "stream",
     "text": [
      "[0.    0.125 0.25  0.375 0.5   0.625 0.75  0.875 1.    1.125 1.25  1.375\n",
      " 1.5   1.625 1.75  1.875 2.   ]\n"
     ]
    }
   ],
   "source": [
    "print(np.linspace(0,2,17))\n",
    "#parameter(start,stop,no. of values which we want)"
   ]
  },
  {
   "cell_type": "code",
   "execution_count": 58,
   "id": "afdc2941-7332-47bb-af7f-4a05927eb9f1",
   "metadata": {},
   "outputs": [
    {
     "name": "stdout",
     "output_type": "stream",
     "text": [
      "[[7 7]\n",
      " [7 7]]\n"
     ]
    }
   ],
   "source": [
    "print(np.full((2,2),7))"
   ]
  },
  {
   "cell_type": "code",
   "execution_count": 59,
   "id": "a7025901-d85e-41e4-9ac7-c6363bad859f",
   "metadata": {},
   "outputs": [
    {
     "name": "stdout",
     "output_type": "stream",
     "text": [
      "[[1. 0. 0. 0.]\n",
      " [0. 1. 0. 0.]\n",
      " [0. 0. 1. 0.]\n",
      " [0. 0. 0. 1.]]\n"
     ]
    }
   ],
   "source": [
    "print(np.eye(4))"
   ]
  },
  {
   "cell_type": "code",
   "execution_count": 63,
   "id": "bd027bdf-b5e1-4334-b46f-ba0c79899854",
   "metadata": {},
   "outputs": [
    {
     "name": "stdout",
     "output_type": "stream",
     "text": [
      "[[0.015867   0.74220431]\n",
      " [0.35529139 0.1182028 ]]\n"
     ]
    }
   ],
   "source": [
    "print(np.random.random((2,2)))"
   ]
  },
  {
   "cell_type": "code",
   "execution_count": 68,
   "id": "6a0a5d43-7610-487c-a544-945fa394751c",
   "metadata": {},
   "outputs": [
    {
     "name": "stdout",
     "output_type": "stream",
     "text": [
      "[[9.34577196e-307 9.34598246e-307]\n",
      " [1.60218491e-306 1.69119873e-306]\n",
      " [1.24611673e-306 1.00136897e-307]]\n"
     ]
    }
   ],
   "source": [
    "print(np.empty((3,2)))"
   ]
  },
  {
   "cell_type": "code",
   "execution_count": null,
   "id": "53ad6f7b-eb52-478e-b0d4-0e215ffce211",
   "metadata": {},
   "outputs": [],
   "source": []
  }
 ],
 "metadata": {
  "kernelspec": {
   "display_name": "Python 3 (ipykernel)",
   "language": "python",
   "name": "python3"
  },
  "language_info": {
   "codemirror_mode": {
    "name": "ipython",
    "version": 3
   },
   "file_extension": ".py",
   "mimetype": "text/x-python",
   "name": "python",
   "nbconvert_exporter": "python",
   "pygments_lexer": "ipython3",
   "version": "3.13.5"
  }
 },
 "nbformat": 4,
 "nbformat_minor": 5
}
